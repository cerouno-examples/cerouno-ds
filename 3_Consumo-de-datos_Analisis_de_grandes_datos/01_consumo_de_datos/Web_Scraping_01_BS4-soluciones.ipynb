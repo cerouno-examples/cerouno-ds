{
  "cells": [
    {
      "cell_type": "code",
      "source": [],
      "outputs": [],
      "execution_count": null,
      "metadata": {}
    },
    {
      "cell_type": "code",
      "source": [
        "from bs4 import BeautifulSoup\n",
        "import requests\n",
        "import re\n",
        "import pandas"
      ],
      "outputs": [],
      "execution_count": null,
      "metadata": {}
    },
    {
      "cell_type": "markdown",
      "source": [
        "## Jerarquía de elementos HTML"
      ],
      "metadata": {}
    },
    {
      "cell_type": "markdown",
      "source": [
        "<img src=\"img/html.png\"/>"
      ],
      "metadata": {}
    },
    {
      "cell_type": "markdown",
      "source": [
        "## DOM (Document Object Mode)\n",
        "\n",
        "<img src=\"img/dom-tree.png\" />\n",
        "\n\n\n",
        "## Y XPath?\n",
        "https://www.w3.org/TR/1999/REC-xpath-19991116/"
      ],
      "metadata": {}
    },
    {
      "cell_type": "markdown",
      "source": [
        "### Obteniendo nuestro primer documento web"
      ],
      "metadata": {}
    },
    {
      "cell_type": "code",
      "source": [
        "URL = 'http://nostarch.com'\n",
        "URL = BeautifulSoup(requests.get(URL).text, \"lxml\")"
      ],
      "outputs": [],
      "execution_count": null,
      "metadata": {}
    },
    {
      "cell_type": "markdown",
      "source": [
        "#### BeautifulSoup nos otorga una estructura de datos para manipular el objeto:"
      ],
      "metadata": {}
    },
    {
      "cell_type": "code",
      "source": [
        "dir(URL)"
      ],
      "outputs": [],
      "execution_count": null,
      "metadata": {
        "collapsed": true
      }
    },
    {
      "cell_type": "code",
      "source": [
        "URL.title, URL.title.name, URL.title.string"
      ],
      "outputs": [],
      "execution_count": null,
      "metadata": {}
    },
    {
      "cell_type": "code",
      "source": [
        "URL.title.parent.name"
      ],
      "outputs": [],
      "execution_count": null,
      "metadata": {}
    },
    {
      "cell_type": "code",
      "source": [
        "# HTML: <p>\n",
        "URL.p"
      ],
      "outputs": [],
      "execution_count": null,
      "metadata": {}
    },
    {
      "cell_type": "code",
      "source": [
        "URL.body.b, URL.a"
      ],
      "outputs": [],
      "execution_count": null,
      "metadata": {}
    },
    {
      "cell_type": "markdown",
      "source": [
        "## Ejercicio:\n",
        "\nCrear una función que reciba una URL y regrese el título (title)"
      ],
      "metadata": {}
    },
    {
      "cell_type": "code",
      "source": [
        "# 1\n",
        "def mi_titulo1(url):\n",
        "    from bs4 import BeautifulSoup\n",
        "    import requests\n",
        "    titulo = BeautifulSoup(requests.get(url).text, \"lxml\")\n",
        "    titulo = titulo.title.string\n",
        "    return titulo\n",
        "\n",
        "# 2\n",
        "def mi_titulo2(url):\n",
        "    from bs4 import BeautifulSoup\n",
        "    import requests\n",
        "    titulo = BeautifulSoup(requests.get(url).text, \"lxml\").title.string\n",
        "    return titulo\n",
        "\n\n",
        "# 0\n",
        "def mi_titulo0(url):\n",
        "    from bs4 import BeautifulSoup\n",
        "    import requests\n",
        "    # Request - HTTP GET \n",
        "    titulo = requests.get(url)\n",
        "    # text from request\n",
        "    titulo = titulo.text\n",
        "    titulo = BeautifulSoup(titulo, \"lxml\")\n",
        "    titulo = titulo.title.string\n",
        "    return titulo"
      ],
      "outputs": [],
      "execution_count": null,
      "metadata": {}
    },
    {
      "cell_type": "code",
      "source": [
        "mi_titulo1('http://twitter.com')"
      ],
      "outputs": [],
      "execution_count": null,
      "metadata": {}
    },
    {
      "cell_type": "code",
      "source": [
        "mi_titulo2('http://twitter.com')"
      ],
      "outputs": [],
      "execution_count": null,
      "metadata": {}
    },
    {
      "cell_type": "code",
      "source": [
        "mi_titulo0('http://bbc.com')"
      ],
      "outputs": [],
      "execution_count": null,
      "metadata": {}
    },
    {
      "cell_type": "code",
      "source": [
        "# Buscar todas las etiquetas\n",
        "\nURL.find_all('a')"
      ],
      "outputs": [],
      "execution_count": null,
      "metadata": {}
    },
    {
      "cell_type": "code",
      "source": [
        "# Buscar todas las etiquetas\n",
        "\nURL.find_all('a')"
      ],
      "outputs": [],
      "execution_count": null,
      "metadata": {
        "scrolled": true
      }
    },
    {
      "cell_type": "code",
      "source": [
        "# Seleccion por clase\n",
        "\n",
        "# URL.find_all('div', class_='product-body')\n",
        "\nlista = URL.find_all('div', class_='view-content')"
      ],
      "outputs": [],
      "execution_count": null,
      "metadata": {}
    },
    {
      "cell_type": "code",
      "source": [
        "# URL.find_all('div')"
      ],
      "outputs": [],
      "execution_count": null,
      "metadata": {}
    },
    {
      "cell_type": "code",
      "source": [
        "lista"
      ],
      "outputs": [],
      "execution_count": null,
      "metadata": {
        "scrolled": true
      }
    },
    {
      "cell_type": "markdown",
      "source": [
        "Comprobar los resultados:"
      ],
      "metadata": {}
    },
    {
      "cell_type": "code",
      "source": [
        "lista[0].a.get_text(), lista[0].a[\"href\"]"
      ],
      "outputs": [],
      "execution_count": null,
      "metadata": {}
    },
    {
      "cell_type": "markdown",
      "source": [
        "Una vez que sabemos como se compone la lista de resultados, podemos exportarla a un DataFrame:"
      ],
      "metadata": {}
    },
    {
      "cell_type": "code",
      "source": [
        "# Creamos un nuevo diccionario\n",
        "resultado_dic = {}\n",
        "\n",
        "# Copiamos los resultados\n",
        "for element in lista:\n",
        "    resultado_dic[str(element.a.get_text())] = element.a[\"href\"]"
      ],
      "outputs": [],
      "execution_count": null,
      "metadata": {}
    },
    {
      "cell_type": "code",
      "source": [
        "# Creamos un nuevo DataFrame\n",
        "resutado_dataframe = pandas.DataFrame.from_dict(resultado_dic, orient='index')\n",
        "resutado_dataframe.head()"
      ],
      "outputs": [],
      "execution_count": null,
      "metadata": {}
    },
    {
      "cell_type": "code",
      "source": [
        "# Renombramos las columnas\n",
        "resutado_dataframe.rename(columns={0: 'URL'}, inplace=True)\n",
        "\nresutado_dataframe"
      ],
      "outputs": [],
      "execution_count": null,
      "metadata": {}
    },
    {
      "cell_type": "code",
      "source": [
        "# Exportar a CSV\n",
        "\nresutado_dataframe.to_csv('nostarch_lista.csv')"
      ],
      "outputs": [],
      "execution_count": null,
      "metadata": {}
    },
    {
      "cell_type": "markdown",
      "source": [
        "## Selección por herencia DOM"
      ],
      "metadata": {}
    },
    {
      "cell_type": "code",
      "source": [
        "URL = 'https://news.ycombinator.com/news'\n",
        "URL = BeautifulSoup(requests.get(URL).text, \"lxml\")"
      ],
      "outputs": [],
      "execution_count": null,
      "metadata": {}
    },
    {
      "cell_type": "markdown",
      "source": [
        "### Herencia DOM: tr > td  > a\n",
        "\n### Recuerdan REGEX?"
      ],
      "metadata": {}
    },
    {
      "cell_type": "code",
      "source": [
        "a_list = URL.select('tr > td  > a[href*=\".\"]')"
      ],
      "outputs": [],
      "execution_count": null,
      "metadata": {}
    },
    {
      "cell_type": "code",
      "source": [
        "a_list"
      ],
      "outputs": [],
      "execution_count": null,
      "metadata": {}
    },
    {
      "cell_type": "markdown",
      "source": [
        "## Ejercicios\n",
        "\n",
        "- Image Site Downloader\n",
        "- Link Verification\n"
      ],
      "metadata": {}
    },
    {
      "cell_type": "markdown",
      "source": [
        "# Pattern\n",
        "\nWeb mining module for Python, with tools for scraping, natural language processing, machine learning, network analysis and visualization. http://www.clips.ua.ac.be/pages/pattern "
      ],
      "metadata": {}
    },
    {
      "cell_type": "code",
      "source": [],
      "outputs": [],
      "execution_count": null,
      "metadata": {}
    }
  ],
  "metadata": {
    "kernelspec": {
      "name": "python3",
      "language": "python",
      "display_name": "Python 3"
    },
    "language_info": {
      "name": "python",
      "version": "3.6.3",
      "mimetype": "text/x-python",
      "codemirror_mode": {
        "name": "ipython",
        "version": 3
      },
      "pygments_lexer": "ipython3",
      "nbconvert_exporter": "python",
      "file_extension": ".py"
    },
    "kernel_info": {
      "name": "python3"
    },
    "nteract": {
      "version": "0.11.9"
    }
  },
  "nbformat": 4,
  "nbformat_minor": 1
}