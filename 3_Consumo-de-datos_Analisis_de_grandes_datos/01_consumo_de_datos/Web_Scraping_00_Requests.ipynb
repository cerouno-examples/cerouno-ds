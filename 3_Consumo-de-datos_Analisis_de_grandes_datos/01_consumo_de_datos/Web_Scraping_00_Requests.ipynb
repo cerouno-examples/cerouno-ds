{
  "cells": [
    {
      "cell_type": "markdown",
      "source": [
        "# Requests\n",
        "\n",
        "## Hello, world!\n"
      ],
      "metadata": {}
    },
    {
      "cell_type": "code",
      "source": [
        "import requests\n"
      ],
      "outputs": [],
      "execution_count": null,
      "metadata": {}
    },
    {
      "cell_type": "code",
      "source": [
        "page = requests.get('http://examplesite.com')\n"
      ],
      "outputs": [],
      "execution_count": null,
      "metadata": {}
    },
    {
      "cell_type": "code",
      "source": [
        "help(requests)"
      ],
      "outputs": [],
      "execution_count": null,
      "metadata": {}
    },
    {
      "cell_type": "code",
      "source": [],
      "outputs": [],
      "execution_count": null,
      "metadata": {}
    },
    {
      "cell_type": "code",
      "source": [
        "page.url"
      ],
      "outputs": [],
      "execution_count": null,
      "metadata": {}
    },
    {
      "cell_type": "code",
      "source": [
        "contents = page.content"
      ],
      "outputs": [],
      "execution_count": null,
      "metadata": {}
    },
    {
      "cell_type": "code",
      "source": [
        "\ncontents"
      ],
      "outputs": [],
      "execution_count": null,
      "metadata": {}
    },
    {
      "cell_type": "code",
      "source": [
        "## Haciendo un Request"
      ],
      "outputs": [],
      "execution_count": null,
      "metadata": {}
    },
    {
      "cell_type": "code",
      "source": [
        "r = requests.get('https://api.github.com/events')"
      ],
      "outputs": [],
      "execution_count": null,
      "metadata": {}
    },
    {
      "cell_type": "markdown",
      "source": [
        "Now, we have a **Response** object called r. We can get all the information we need from this object.\n",
        "\n\n",
        "Atributos de **r:**\n"
      ],
      "metadata": {}
    },
    {
      "cell_type": "code",
      "source": [
        "dir(r)"
      ],
      "outputs": [],
      "execution_count": null,
      "metadata": {}
    },
    {
      "cell_type": "markdown",
      "source": [
        "Requests' simple API means that all forms of HTTP request are as obvious. For example, this is how you make an HTTP POST request:\n",
        "\n\n\n"
      ],
      "metadata": {}
    },
    {
      "cell_type": "code",
      "source": [
        "r = requests.post('http://httpbin.org/post', data = {'key':'value'})"
      ],
      "outputs": [],
      "execution_count": null,
      "metadata": {}
    },
    {
      "cell_type": "code",
      "source": [
        "r"
      ],
      "outputs": [],
      "execution_count": null,
      "metadata": {}
    },
    {
      "cell_type": "code",
      "source": [
        "r = requests.delete('http://httpbin.org/delete')"
      ],
      "outputs": [],
      "execution_count": null,
      "metadata": {}
    },
    {
      "cell_type": "code",
      "source": [
        "r"
      ],
      "outputs": [],
      "execution_count": null,
      "metadata": {}
    },
    {
      "cell_type": "code",
      "source": [
        "r.content"
      ],
      "outputs": [],
      "execution_count": null,
      "metadata": {}
    },
    {
      "cell_type": "code",
      "source": [
        "r = requests.head('http://httpbin.org/get')"
      ],
      "outputs": [],
      "execution_count": null,
      "metadata": {}
    },
    {
      "cell_type": "code",
      "source": [
        "r"
      ],
      "outputs": [],
      "execution_count": null,
      "metadata": {}
    },
    {
      "cell_type": "code",
      "source": [
        "r.content"
      ],
      "outputs": [],
      "execution_count": null,
      "metadata": {}
    },
    {
      "cell_type": "code",
      "source": [
        "r = requests.options('http://httpbin.org/get')"
      ],
      "outputs": [],
      "execution_count": null,
      "metadata": {}
    },
    {
      "cell_type": "code",
      "source": [
        "r.content"
      ],
      "outputs": [],
      "execution_count": null,
      "metadata": {}
    },
    {
      "cell_type": "code",
      "source": [
        "r = requests.options('http://httpbin.org/mechanical')"
      ],
      "outputs": [],
      "execution_count": null,
      "metadata": {}
    },
    {
      "cell_type": "code",
      "source": [
        "r.content"
      ],
      "outputs": [],
      "execution_count": null,
      "metadata": {}
    },
    {
      "cell_type": "markdown",
      "source": [
        "## Parametros en URLs\n",
        "\n\nYou often want to send some sort of data in the URL's query string. If you were constructing the URL by hand, this data would be given as key/value pairs in the URL after a question mark, e.g. httpbin.org/get?key=val. Requests allows you to provide these arguments as a dictionary of strings, using the params keyword argument. As an example, if you wanted to pass key1=value1 and key2=value2 to httpbin.org/get, you would use the following code:"
      ],
      "metadata": {}
    },
    {
      "cell_type": "code",
      "source": [
        "payload = {'key1': 'value1', 'key2': 'value2'}"
      ],
      "outputs": [],
      "execution_count": null,
      "metadata": {}
    },
    {
      "cell_type": "code",
      "source": [
        "r = requests.get('http://httpbin.org/get', params=payload)"
      ],
      "outputs": [],
      "execution_count": null,
      "metadata": {}
    },
    {
      "cell_type": "markdown",
      "source": [
        "You can see that the URL has been correctly encoded by printing the URL:"
      ],
      "metadata": {}
    },
    {
      "cell_type": "code",
      "source": [
        "print(r.url)"
      ],
      "outputs": [],
      "execution_count": null,
      "metadata": {}
    },
    {
      "cell_type": "code",
      "source": [
        "r.content"
      ],
      "outputs": [],
      "execution_count": null,
      "metadata": {}
    },
    {
      "cell_type": "markdown",
      "source": [
        "Note that any dictionary key whose value is None will not be added to the URL's query string.\n",
        "\nYou can also pass a list of items as a value:"
      ],
      "metadata": {}
    },
    {
      "cell_type": "code",
      "source": [
        "payload = {'key1': 'value1', 'key2': ['value2', 'value3']}"
      ],
      "outputs": [],
      "execution_count": null,
      "metadata": {}
    },
    {
      "cell_type": "code",
      "source": [
        "r = requests.get('http://httpbin.org/get', params=payload)"
      ],
      "outputs": [],
      "execution_count": null,
      "metadata": {}
    },
    {
      "cell_type": "code",
      "source": [
        "print(r.url)"
      ],
      "outputs": [],
      "execution_count": null,
      "metadata": {}
    },
    {
      "cell_type": "markdown",
      "source": [
        "## Response Content\n",
        "\nWe can read the content of the server's response. Consider the GitHub timeline again:"
      ],
      "metadata": {}
    },
    {
      "cell_type": "code",
      "source": [
        "import requests\n",
        "\n",
        "r = requests.get('https://api.github.com/events')\n",
        "r.text"
      ],
      "outputs": [],
      "execution_count": null,
      "metadata": {}
    },
    {
      "cell_type": "markdown",
      "source": [
        "Requests will automatically decode content from the server. Most unicode charsets are seamlessly decoded.\n",
        "\nWhen you make a request, Requests makes educated guesses about the encoding of the response based on the HTTP headers. The text encoding guessed by Requests is used when you access **r.text**. You can find out what encoding Requests is using, and change it, using the **r.encoding** property:"
      ],
      "metadata": {}
    },
    {
      "cell_type": "code",
      "source": [
        "r.encoding"
      ],
      "outputs": [],
      "execution_count": null,
      "metadata": {}
    },
    {
      "cell_type": "code",
      "source": [
        "r.encoding = 'ISO-8859-1'"
      ],
      "outputs": [],
      "execution_count": null,
      "metadata": {}
    },
    {
      "cell_type": "markdown",
      "source": [
        "If you change the encoding, Requests will use the new value of **r.encoding** whenever you call **r.text**. You might want to do this in any situation where you can apply special logic to work out what the encoding of the content will be. For example, HTML and XML have the ability to specify their encoding in their body. In situations like this, you should use r.content to find the encoding, and then set **r.encoding**. This will let you use r.text with the correct encoding.\n",
        "\n",
        "Requests will also use custom encodings in the event that you need them. If you have created your own encoding and registered it with the codecs module, you can simply use the codec name as the value of **r.encoding** and Requests will handle the decoding for you.\n",
        "\n## File Downloading"
      ],
      "metadata": {}
    },
    {
      "cell_type": "code",
      "source": [
        "import requests\n",
        "import shutil\n",
        "\n",
        "def download_file(url):\n",
        "    local_filename = url.split('/')[-1]\n",
        "    r = requests.get(url, stream=True)\n",
        "    with open(local_filename, 'wb') as f:\n",
        "        shutil.copyfileobj(r.raw, f)\n",
        "\n    return local_filename"
      ],
      "outputs": [],
      "execution_count": null,
      "metadata": {}
    },
    {
      "cell_type": "code",
      "source": [
        "my_file = 'https://d3g5gsiof5omrk.cloudfront.net/nixos/18.03/nixos-18.03.131807.489a14add9a/nixos-graphical-18.03.131807.489a14add9a-x86_64-linux.iso'\n",
        "download_file(my_file)"
      ],
      "outputs": [],
      "execution_count": null,
      "metadata": {
        "scrolled": true
      }
    },
    {
      "cell_type": "code",
      "source": [
        "!ls -alsh  *.iso"
      ],
      "outputs": [],
      "execution_count": null,
      "metadata": {}
    },
    {
      "cell_type": "code",
      "source": [],
      "outputs": [],
      "execution_count": null,
      "metadata": {}
    }
  ],
  "metadata": {
    "kernelspec": {
      "name": "python3",
      "language": "python",
      "display_name": "Python 3"
    },
    "language_info": {
      "name": "python",
      "version": "3.6.3",
      "mimetype": "text/x-python",
      "codemirror_mode": {
        "name": "ipython",
        "version": 3
      },
      "pygments_lexer": "ipython3",
      "nbconvert_exporter": "python",
      "file_extension": ".py"
    },
    "kernel_info": {
      "name": "python3"
    },
    "nteract": {
      "version": "0.11.9"
    }
  },
  "nbformat": 4,
  "nbformat_minor": 2
}